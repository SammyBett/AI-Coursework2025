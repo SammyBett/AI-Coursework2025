{
  "nbformat": 4,
  "nbformat_minor": 0,
  "metadata": {
    "colab": {
      "provenance": [],
      "authorship_tag": "ABX9TyOBqsMCTemKjCMf7xk3Phba",
      "include_colab_link": true
    },
    "kernelspec": {
      "name": "python3",
      "display_name": "Python 3"
    },
    "language_info": {
      "name": "python"
    }
  },
  "cells": [
    {
      "cell_type": "markdown",
      "metadata": {
        "id": "view-in-github",
        "colab_type": "text"
      },
      "source": [
        "<a href=\"https://colab.research.google.com/github/SammyBett/AI-Coursework2025/blob/main/Python_Refresher.ipynb\" target=\"_parent\"><img src=\"https://colab.research.google.com/assets/colab-badge.svg\" alt=\"Open In Colab\"/></a>"
      ]
    },
    {
      "cell_type": "code",
      "execution_count": null,
      "metadata": {
        "id": "kYoOnWzVrbdm",
        "colab": {
          "base_uri": "https://localhost:8080/"
        },
        "outputId": "ee500112-d522-43de-c8b1-23c2d90979f2"
      },
      "outputs": [
        {
          "output_type": "stream",
          "name": "stdout",
          "text": [
            "Please enter the number of days: 6\n",
            "There are 518400 seconds in 6 days.\n"
          ]
        }
      ],
      "source": [
        "#Question One\n",
        "def calculate_seconds_from_days():\n",
        "  # Start of the function to calculate seconds from days\n",
        "  try:\n",
        "    # Prompt the user to enter the number of days\n",
        "    days_str = input(\"Please enter the number of days: \")\n",
        "    # Convert the input string to an integer\n",
        "    days = int(days_str)\n",
        "    # Check if the entered number of days is negative\n",
        "    if days < 0:\n",
        "      # Print an error message for negative input\n",
        "      print(\"Please enter a non-negative number of days.\")\n",
        "      # Exit the function if the input is negative\n",
        "      return\n",
        "\n",
        "    # Define constants for seconds in a minute, minutes in an hour, and hours in a day\n",
        "    seconds_per_minute = 60\n",
        "    minutes_per_hour = 60\n",
        "    hours_per_day = 24\n",
        "    # Calculate the total number of seconds\n",
        "    total_seconds = days * hours_per_day * minutes_per_hour * seconds_per_minute\n",
        "    # Print the result\n",
        "    print(f\"There are {total_seconds} seconds in {days} days.\")\n",
        "    # Return from the function after successful calculation\n",
        "    return\n",
        "\n",
        "\n",
        "  except ValueError :\n",
        "      # Handle the case where the input is not a valid whole number\n",
        "      print(\"Invalid input. Please enter a valid whole number\")\n",
        "\n",
        "# Call the function to start the process\n",
        "calculate_seconds_from_days()"
      ]
    },
    {
      "cell_type": "code",
      "metadata": {
        "colab": {
          "base_uri": "https://localhost:8080/"
        },
        "id": "80868dc3",
        "outputId": "ea76d1ce-e926-4a65-cbb1-b2f8319c8662"
      },
      "source": [
        "#Question Two\n",
        "import math\n",
        "\n",
        "def calculate_sphere_volume():\n",
        "  \"\"\"Calculates the volume of a sphere based on user input for the radius.\"\"\"\n",
        "  try:\n",
        "    # Prompt the user to enter the radius\n",
        "    radius_str = input(\"Please enter the radius of the sphere: \")\n",
        "    # Convert the input string to a float\n",
        "    radius = float(radius_str)\n",
        "\n",
        "    # Check if the radius is negative\n",
        "    if radius < 0:\n",
        "      print(\"Please enter a non-negative radius.\")\n",
        "      return\n",
        "\n",
        "    # Calculate the volume of the sphere using the formula (4/3) * pi * r^3\n",
        "    volume = (4/3) * math.pi * (radius**3)\n",
        "\n",
        "    # Print the calculated volume\n",
        "    print(f\"The volume of the sphere with radius {radius} is {volume:.2f}\")\n",
        "\n",
        "  except ValueError:\n",
        "    # Handle the case where the input is not a valid number\n",
        "    print(\"Invalid input. Please enter a valid number for the radius.\")\n",
        "\n",
        "# Call the function to start the program\n",
        "calculate_sphere_volume()"
      ],
      "execution_count": null,
      "outputs": [
        {
          "output_type": "stream",
          "name": "stdout",
          "text": [
            "Please enter the radius of the sphere: 12\n",
            "The volume of the sphere with radius 12.0 is 7238.23\n"
          ]
        }
      ]
    },
    {
      "cell_type": "code",
      "metadata": {
        "id": "ed65374d"
      },
      "source": [
        "#Question Three\n",
        "def calculate_square_properties():\n",
        "  \"\"\"Calculates the area and perimeter of a square based on user input for the side length.\"\"\"\n",
        "  try:\n",
        "    # Prompt the user to enter the side length\n",
        "    side_length_str = input(\"Please enter the side length of the square: \")\n",
        "    # Convert the input string to a float\n",
        "    side_length = float(side_length_str)\n",
        "\n",
        "    # Check if the side length is negative\n",
        "    if side_length < 0:\n",
        "      print(\"Please enter a non-negative side length.\")\n",
        "      return\n",
        "\n",
        "    # Calculate the area of the square (side_length * side_length)\n",
        "    area = side_length * side_length\n",
        "\n",
        "    # Calculate the perimeter of the square (4 * side_length)\n",
        "    perimeter = 4 * side_length\n",
        "\n",
        "    # Print the calculated area and perimeter\n",
        "    print(f\"The area of the square is {area:.2f}\")\n",
        "    print(f\"The perimeter of the square is {perimeter:.2f}\")\n",
        "\n",
        "  except ValueError:\n",
        "    # Handle the case where the input is not a valid number\n",
        "    print(\"Invalid input. Please enter a valid number for the side length.\")\n",
        "\n",
        "# Call the function to start the program\n",
        "calculate_square_properties()"
      ],
      "execution_count": null,
      "outputs": []
    },
    {
      "cell_type": "code",
      "metadata": {
        "colab": {
          "base_uri": "https://localhost:8080/"
        },
        "id": "81912015",
        "outputId": "6705ab10-1479-4327-ec2b-c3d7a25cb2d2"
      },
      "source": [
        "# Question Four\n",
        "def check_case():\n",
        "  # Prompt the user to enter a character\n",
        "  character = input(\"Please enter a single character: \")\n",
        "\n",
        "  # Check if the input is a single character\n",
        "  if len(character) != 1:\n",
        "    print(\"Please enter only one character.\")\n",
        "    return\n",
        "\n",
        "  # Check if the character is uppercase\n",
        "  if 'A' <= character <= 'Z':\n",
        "    print(f\"The character '{character}' is uppercase.\")\n",
        "  # Check if the character is lowercase\n",
        "  elif 'a' <= character <= 'z':\n",
        "    print(f\"The character '{character}' is lowercase.\")\n",
        "  # If it's neither, it's not a letter\n",
        "  else:\n",
        "    print(f\"The character '{character}' is not a letter.\")\n",
        "\n",
        "# Call the function to run the program\n",
        "check_case()"
      ],
      "execution_count": 2,
      "outputs": [
        {
          "output_type": "stream",
          "name": "stdout",
          "text": [
            "Please enter a single character: g\n",
            "The character 'g' is lowercase.\n"
          ]
        }
      ]
    },
    {
      "cell_type": "code",
      "metadata": {
        "colab": {
          "base_uri": "https://localhost:8080/"
        },
        "id": "49b7092f",
        "outputId": "27996b49-a5d7-47cf-a688-1ed386a222f1"
      },
      "source": [
        "# BEGIN\n",
        "x = 0\n",
        "y = 20\n",
        "\n",
        "# REPEAT\n",
        "while y >= 6:\n",
        "  # SUBTRACT 4 FROM y\n",
        "  y -= 4\n",
        "  # ADD 2/y TO x\n",
        "  x += 2 / y\n",
        "\n",
        "# UNTIL y IS LESS THAN 6\n",
        "\n",
        "# DISPLAY x\n",
        "print(x)\n",
        "# END"
      ],
      "execution_count": 3,
      "outputs": [
        {
          "output_type": "stream",
          "name": "stdout",
          "text": [
            "1.0416666666666665\n"
          ]
        }
      ]
    },
    {
      "cell_type": "code",
      "metadata": {
        "colab": {
          "base_uri": "https://localhost:8080/"
        },
        "id": "6de6400f",
        "outputId": "e4602936-ce49-492e-a0b8-d2efcb3014f5"
      },
      "source": [
        "def calculate_average_of_five_values():\n",
        "  values = []  # Initialize an empty list to store the values\n",
        "\n",
        "  print(\"Please enter 5 values:\")\n",
        "\n",
        "  # Use a loop to get 5 values from the user\n",
        "  for i in range(5):\n",
        "    while True:  # Loop to ensure valid input\n",
        "      try:\n",
        "        value_str = input(f\"Enter value {i + 1}: \")\n",
        "        value = float(value_str) # Convert input to a float to handle potential decimal values\n",
        "        values.append(value) # Add the valid value to the list\n",
        "        break # Exit the inner while loop if input is valid\n",
        "      except ValueError:\n",
        "        print(\"Invalid input. Please enter a valid number.\")\n",
        "\n",
        "  # Calculate the sum of the values in the list\n",
        "  total_sum = sum(values)\n",
        "\n",
        "  # Calculate the average\n",
        "  # Check if the list is not empty to avoid division by zero\n",
        "  if len(values) > 0:\n",
        "    average = total_sum / len(values)\n",
        "    # Display the average\n",
        "    print(f\"\\nThe average of the entered values is: {average:.2f}\")\n",
        "  else:\n",
        "    print(\"No valid values were entered.\")\n",
        "\n",
        "# Call the function to run the program\n",
        "calculate_average_of_five_values()"
      ],
      "execution_count": 4,
      "outputs": [
        {
          "output_type": "stream",
          "name": "stdout",
          "text": [
            "Please enter 5 values:\n",
            "Enter value 1: 5\n",
            "Enter value 2: 3\n",
            "Enter value 3: 4\n",
            "Enter value 4: 6\n",
            "Enter value 5: 8\n",
            "\n",
            "The average of the entered values is: 5.20\n"
          ]
        }
      ]
    },
    {
      "cell_type": "code",
      "metadata": {
        "id": "f1ee4e6d"
      },
      "source": [
        "def solution(A):\n",
        "  # Use a set to store the absolute values to automatically handle distinctness\n",
        "  absolute_values = set()\n",
        "\n",
        "  # Iterate through the array\n",
        "  for number in A:\n",
        "    # Add the absolute value of each number to the set\n",
        "    absolute_values.add(abs(number))\n",
        "\n",
        "  # The size of the set is the absolute distinct count\n",
        "  return len(absolute_values)\n",
        "\n",
        "# Example usage:\n",
        "A = [-5, -3, -1, 0, 3, 6]\n",
        "distinct_count = solution(A)\n",
        "print(f\"The absolute distinct count of array A is: {distinct_count}\")\n",
        "\n",
        "A2 = [1, 2, 3, 4, 5]\n",
        "distinct_count2 = solution(A2)\n",
        "print(f\"The absolute distinct count of array A2 is: {distinct_count2}\")\n",
        "\n",
        "A3 = [-1, -1, 0, 1, 1]\n",
        "distinct_count3 = solution(A3)\n",
        "print(f\"The absolute distinct count of array A3 is: {distinct_count3}\")"
      ],
      "execution_count": null,
      "outputs": []
    }
  ]
}